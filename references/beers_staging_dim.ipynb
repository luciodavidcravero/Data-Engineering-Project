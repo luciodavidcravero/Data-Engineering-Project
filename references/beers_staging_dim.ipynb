{
 "cells": [
  {
   "cell_type": "code",
   "execution_count": 1,
   "metadata": {},
   "outputs": [],
   "source": [
    "import pandas as pd\n",
    "import requests\n",
    "from utils import connect_to_db, load_to_sql"
   ]
  },
  {
   "cell_type": "code",
   "execution_count": 7,
   "metadata": {},
   "outputs": [],
   "source": [
    "# Obtener datos de https://random-data-api.com/api/v2/beers?size=10\n",
    "\n",
    "r = requests.get(\n",
    "    'https://random-data-api.com/api/v2/beers',\n",
    "    params={'size': 10}\n",
    "    )\n",
    "\n",
    "if r.status_code == 200:\n",
    "    beers_data = r.json()"
   ]
  },
  {
   "cell_type": "code",
   "execution_count": 8,
   "metadata": {},
   "outputs": [
    {
     "data": {
      "text/html": [
       "<div>\n",
       "<style scoped>\n",
       "    .dataframe tbody tr th:only-of-type {\n",
       "        vertical-align: middle;\n",
       "    }\n",
       "\n",
       "    .dataframe tbody tr th {\n",
       "        vertical-align: top;\n",
       "    }\n",
       "\n",
       "    .dataframe thead th {\n",
       "        text-align: right;\n",
       "    }\n",
       "</style>\n",
       "<table border=\"1\" class=\"dataframe\">\n",
       "  <thead>\n",
       "    <tr style=\"text-align: right;\">\n",
       "      <th></th>\n",
       "      <th>id</th>\n",
       "      <th>uid</th>\n",
       "      <th>brand</th>\n",
       "      <th>name</th>\n",
       "      <th>style</th>\n",
       "      <th>hop</th>\n",
       "      <th>yeast</th>\n",
       "      <th>malts</th>\n",
       "      <th>ibu</th>\n",
       "      <th>alcohol</th>\n",
       "      <th>blg</th>\n",
       "    </tr>\n",
       "  </thead>\n",
       "  <tbody>\n",
       "    <tr>\n",
       "      <th>0</th>\n",
       "      <td>5367</td>\n",
       "      <td>736355c5-f2c6-424e-a599-cfdeae9a7c79</td>\n",
       "      <td>Blue Moon</td>\n",
       "      <td>La Fin Du Monde</td>\n",
       "      <td>Bock</td>\n",
       "      <td>Chelan</td>\n",
       "      <td>1056 - American Ale</td>\n",
       "      <td>Special roast</td>\n",
       "      <td>74 IBU</td>\n",
       "      <td>6.1%</td>\n",
       "      <td>5.3°Blg</td>\n",
       "    </tr>\n",
       "    <tr>\n",
       "      <th>1</th>\n",
       "      <td>7321</td>\n",
       "      <td>dfbb81f4-1b42-4fc8-9ff1-43226eccf7c7</td>\n",
       "      <td>Stella Artois</td>\n",
       "      <td>La Fin Du Monde</td>\n",
       "      <td>Belgian Strong Ale</td>\n",
       "      <td>Millennium</td>\n",
       "      <td>1318 - London Ale III</td>\n",
       "      <td>Special roast</td>\n",
       "      <td>88 IBU</td>\n",
       "      <td>7.3%</td>\n",
       "      <td>15.9°Blg</td>\n",
       "    </tr>\n",
       "    <tr>\n",
       "      <th>2</th>\n",
       "      <td>6663</td>\n",
       "      <td>929e902e-f63e-4ddb-a937-5b7af5624d48</td>\n",
       "      <td>Dos Equis</td>\n",
       "      <td>Hercules Double IPA</td>\n",
       "      <td>Bock</td>\n",
       "      <td>Olympic</td>\n",
       "      <td>2308 - Munich Lager</td>\n",
       "      <td>Victory</td>\n",
       "      <td>52 IBU</td>\n",
       "      <td>8.1%</td>\n",
       "      <td>5.8°Blg</td>\n",
       "    </tr>\n",
       "    <tr>\n",
       "      <th>3</th>\n",
       "      <td>3664</td>\n",
       "      <td>da1e15db-4c33-4f14-b276-12bbfea8ff2d</td>\n",
       "      <td>Lowenbrau</td>\n",
       "      <td>St. Bernardus Abt 12</td>\n",
       "      <td>Wood-aged Beer</td>\n",
       "      <td>Hallertau</td>\n",
       "      <td>3463 - Forbidden Fruit</td>\n",
       "      <td>Vienna</td>\n",
       "      <td>66 IBU</td>\n",
       "      <td>4.0%</td>\n",
       "      <td>12.4°Blg</td>\n",
       "    </tr>\n",
       "    <tr>\n",
       "      <th>4</th>\n",
       "      <td>3737</td>\n",
       "      <td>9447b758-6f03-4b63-a087-ddf6372697a4</td>\n",
       "      <td>Lowenbrau</td>\n",
       "      <td>Chocolate St</td>\n",
       "      <td>Strong Ale</td>\n",
       "      <td>Centennial</td>\n",
       "      <td>1275 - Thames Valley Ale</td>\n",
       "      <td>Carapils</td>\n",
       "      <td>16 IBU</td>\n",
       "      <td>3.2%</td>\n",
       "      <td>6.2°Blg</td>\n",
       "    </tr>\n",
       "  </tbody>\n",
       "</table>\n",
       "</div>"
      ],
      "text/plain": [
       "     id                                   uid          brand  \\\n",
       "0  5367  736355c5-f2c6-424e-a599-cfdeae9a7c79      Blue Moon   \n",
       "1  7321  dfbb81f4-1b42-4fc8-9ff1-43226eccf7c7  Stella Artois   \n",
       "2  6663  929e902e-f63e-4ddb-a937-5b7af5624d48      Dos Equis   \n",
       "3  3664  da1e15db-4c33-4f14-b276-12bbfea8ff2d      Lowenbrau   \n",
       "4  3737  9447b758-6f03-4b63-a087-ddf6372697a4      Lowenbrau   \n",
       "\n",
       "                   name               style         hop  \\\n",
       "0       La Fin Du Monde                Bock      Chelan   \n",
       "1       La Fin Du Monde  Belgian Strong Ale  Millennium   \n",
       "2   Hercules Double IPA                Bock     Olympic   \n",
       "3  St. Bernardus Abt 12      Wood-aged Beer   Hallertau   \n",
       "4          Chocolate St          Strong Ale  Centennial   \n",
       "\n",
       "                      yeast          malts     ibu alcohol       blg  \n",
       "0       1056 - American Ale  Special roast  74 IBU    6.1%   5.3°Blg  \n",
       "1     1318 - London Ale III  Special roast  88 IBU    7.3%  15.9°Blg  \n",
       "2       2308 - Munich Lager        Victory  52 IBU    8.1%   5.8°Blg  \n",
       "3    3463 - Forbidden Fruit         Vienna  66 IBU    4.0%  12.4°Blg  \n",
       "4  1275 - Thames Valley Ale       Carapils  16 IBU    3.2%   6.2°Blg  "
      ]
     },
     "execution_count": 8,
     "metadata": {},
     "output_type": "execute_result"
    }
   ],
   "source": [
    "df_beers = pd.json_normalize(beers_data)\n",
    "df_beers.head()"
   ]
  },
  {
   "cell_type": "code",
   "execution_count": 5,
   "metadata": {},
   "outputs": [
    {
     "name": "stderr",
     "output_type": "stream",
     "text": [
      "2024-02-06 20:25:49,053 - INFO - Conectándose a la base de datos...\n",
      "2024-02-06 20:25:49,128 - INFO - Conexión a la base de datos establecida exitosamente\n"
     ]
    }
   ],
   "source": [
    "engine = connect_to_db(\"config.ini\", \"redshift\")"
   ]
  },
  {
   "cell_type": "code",
   "execution_count": 9,
   "metadata": {},
   "outputs": [
    {
     "name": "stderr",
     "output_type": "stream",
     "text": [
      "2024-02-06 20:36:02,953 - INFO - Cargando datos en la base de datos...\n",
      "2024-02-06 20:36:03,440 - INFO - Datos cargados exitosamente en la base de datos\n"
     ]
    }
   ],
   "source": [
    "with engine.connect() as conn, conn.begin():\n",
    "\n",
    "    conn.execute(\"TRUNCATE TABLE stg_beer\")\n",
    "\n",
    "    load_to_sql(df_beers, \"stg_beer\", conn, \"append\")\n",
    "\n",
    "    conn.execute(\"\"\"\n",
    "        MERGE INTO dim_beer\n",
    "        USING stg_beer\n",
    "        ON dim_beer.id = stg_beer.id\n",
    "        WHEN MATCHED THEN\n",
    "            UPDATE SET\n",
    "                name = stg_beer.name,\n",
    "                style = stg_beer.style,\n",
    "                brand = stg_beer.brand,\n",
    "                updated_at = GETDATE() \n",
    "        WHEN NOT MATCHED THEN\n",
    "            INSERT (id, uid, brand, name, style, hop, malts, alcohol, blg, created_at, updated_at)\n",
    "            VALUES (stg_beer.id, stg_beer.uid, stg_beer.brand, stg_beer.name, stg_beer.style, stg_beer.hop, stg_beer.malts, stg_beer.alcohol, stg_beer.blg, GETDATE(), GETDATE())\n",
    "        \"\"\")"
   ]
  },
  {
   "cell_type": "code",
   "execution_count": 11,
   "metadata": {},
   "outputs": [
    {
     "name": "stderr",
     "output_type": "stream",
     "text": [
      "2024-02-06 20:46:16,236 - INFO - Conectándose a la base de datos...\n",
      "2024-02-06 20:46:16,239 - INFO - Conexión a la base de datos establecida exitosamente\n"
     ]
    }
   ],
   "source": [
    "engine = connect_to_db(\"config.ini\", \"redshift\")\n",
    "with engine.connect() as conn, conn.begin():\n",
    "    conn.execute(\"\"\"\n",
    "        MERGE INTO dim_beer\n",
    "        USING stg_beer\n",
    "        ON dim_beer.id = stg_beer.id\n",
    "        WHEN MATCHED THEN\n",
    "            UPDATE SET\n",
    "                name = stg_beer.name,\n",
    "                style = stg_beer.style,\n",
    "                brand = stg_beer.brand,\n",
    "                updated_at = GETDATE() \n",
    "        WHEN NOT MATCHED THEN\n",
    "            INSERT (id, uid, brand, name, style, hop, malts, alcohol, blg, created_at, updated_at)\n",
    "            VALUES (stg_beer.id, stg_beer.uid, stg_beer.brand, stg_beer.name, stg_beer.style, stg_beer.hop, stg_beer.malts, stg_beer.alcohol, stg_beer.blg, GETDATE(), GETDATE())\n",
    "        \"\"\")"
   ]
  },
  {
   "cell_type": "code",
   "execution_count": null,
   "metadata": {},
   "outputs": [],
   "source": []
  }
 ],
 "metadata": {
  "kernelspec": {
   "display_name": "dataenv",
   "language": "python",
   "name": "python3"
  },
  "language_info": {
   "codemirror_mode": {
    "name": "ipython",
    "version": 3
   },
   "file_extension": ".py",
   "mimetype": "text/x-python",
   "name": "python",
   "nbconvert_exporter": "python",
   "pygments_lexer": "ipython3",
   "version": "3.10.9"
  }
 },
 "nbformat": 4,
 "nbformat_minor": 2
}
