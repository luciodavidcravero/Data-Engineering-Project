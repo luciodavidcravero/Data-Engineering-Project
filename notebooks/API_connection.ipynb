{
 "cells": [
  {
   "cell_type": "markdown",
   "metadata": {},
   "source": [
    "This script generates a basic connection to Carbon Intensity API\n",
    "https://carbon-intensity.github.io/api-definitions/?python#carbon-intensity-api-v2-0-0\n",
    "\n",
    "Then saves the extracted data into a csv file"
   ]
  },
  {
   "cell_type": "code",
   "execution_count": 1,
   "metadata": {},
   "outputs": [],
   "source": [
    "#--------------------------------------------------------------------------\n",
    "#Import required libraries\n",
    "#--------------------------------------------------------------------------\n",
    "import pandas as pd\n",
    "import requests\n",
    "from datetime import datetime, timedelta"
   ]
  },
  {
   "cell_type": "code",
   "execution_count": 2,
   "metadata": {},
   "outputs": [],
   "source": [
    "#--------------------------------------------------------------------------\n",
    "#API connection (test for only 1 day)\n",
    "#--------------------------------------------------------------------------\n",
    "headers = {\n",
    "  'Accept': 'application/json'\n",
    "}\n",
    "\n",
    "base_url = 'https://api.carbonintensity.org.uk/intensity'\n",
    "endpoint = 'stats'\n",
    "from_date = '2024-01-01T00:00Z'\n",
    "to_date = '2024-01-29T23:59Z'\n",
    "from_date = datetime.fromisoformat(to_date[:-1]) - timedelta(days=30)\n",
    "from_date = from_date.strftime('%Y-%m-%dT%H:%MZ')\n",
    "block_date = 4\n",
    "full_url = f\"{base_url}/{endpoint}/{from_date}/{to_date}/{block_date}\"\n",
    "r = requests.get(full_url,\n",
    "                 params={},\n",
    "                 headers = headers)"
   ]
  },
  {
   "cell_type": "code",
   "execution_count": 3,
   "metadata": {},
   "outputs": [
    {
     "name": "stdout",
     "output_type": "stream",
     "text": [
      "Success!\n"
     ]
    }
   ],
   "source": [
    "#--------------------------------------------------------------------------\n",
    "#Save data into variable\n",
    "#--------------------------------------------------------------------------\n",
    "#json_response = r.json()\n",
    "#json_response.keys()\n",
    "\n",
    "if r.status_code == 200:\n",
    "    print(\"Success!\")\n",
    "    json_data = r.json()['data']\n",
    "    df_carbon_intensity = pd.json_normalize(json_data)\n",
    "else:\n",
    "    print(\"Failure!\")\n",
    "    print(r.status_code)\n",
    "    print(r.text)"
   ]
  },
  {
   "cell_type": "code",
   "execution_count": 5,
   "metadata": {},
   "outputs": [
    {
     "name": "stdout",
     "output_type": "stream",
     "text": [
      "[{'from': '2023-12-31T23:59Z', 'to': '2024-01-01T03:59Z', 'intensity': {'max': 71, 'average': 65, 'min': 62, 'index': 'low'}}, {'from': '2024-01-01T03:59Z', 'to': '2024-01-01T07:59Z', 'intensity': {'max': 62, 'average': 59, 'min': 57, 'index': 'low'}}, {'from': '2024-01-01T07:59Z', 'to': '2024-01-01T11:59Z', 'intensity': {'max': 71, 'average': 54, 'min': 46, 'index': 'low'}}, {'from': '2024-01-01T11:59Z', 'to': '2024-01-01T15:59Z', 'intensity': {'max': 116, 'average': 105, 'min': 82, 'index': 'low'}}, {'from': '2024-01-01T15:59Z', 'to': '2024-01-01T19:59Z', 'intensity': {'max': 115, 'average': 100, 'min': 70, 'index': 'low'}}, {'from': '2024-01-01T19:59Z', 'to': '2024-01-01T23:59Z', 'intensity': {'max': 61, 'average': 48, 'min': 41, 'index': 'low'}}, {'from': '2024-01-01T23:59Z', 'to': '2024-01-02T03:59Z', 'intensity': {'max': 59, 'average': 55, 'min': 50, 'index': 'low'}}, {'from': '2024-01-02T03:59Z', 'to': '2024-01-02T07:59Z', 'intensity': {'max': 105, 'average': 75, 'min': 57, 'index': 'low'}}, {'from': '2024-01-02T07:59Z', 'to': '2024-01-02T11:59Z', 'intensity': {'max': 149, 'average': 128, 'min': 100, 'index': 'moderate'}}, {'from': '2024-01-02T11:59Z', 'to': '2024-01-02T15:59Z', 'intensity': {'max': 154, 'average': 150, 'min': 144, 'index': 'moderate'}}, {'from': '2024-01-02T15:59Z', 'to': '2024-01-02T19:59Z', 'intensity': {'max': 143, 'average': 132, 'min': 118, 'index': 'moderate'}}, {'from': '2024-01-02T19:59Z', 'to': '2024-01-02T23:59Z', 'intensity': {'max': 108, 'average': 82, 'min': 66, 'index': 'low'}}, {'from': '2024-01-02T23:59Z', 'to': '2024-01-03T03:59Z', 'intensity': {'max': 76, 'average': 69, 'min': 63, 'index': 'low'}}, {'from': '2024-01-03T03:59Z', 'to': '2024-01-03T07:59Z', 'intensity': {'max': 131, 'average': 94, 'min': 77, 'index': 'low'}}, {'from': '2024-01-03T07:59Z', 'to': '2024-01-03T11:59Z', 'intensity': {'max': 157, 'average': 150, 'min': 138, 'index': 'moderate'}}, {'from': '2024-01-03T11:59Z', 'to': '2024-01-03T15:59Z', 'intensity': {'max': 174, 'average': 168, 'min': 160, 'index': 'moderate'}}, {'from': '2024-01-03T15:59Z', 'to': '2024-01-03T19:59Z', 'intensity': {'max': 176, 'average': 173, 'min': 168, 'index': 'moderate'}}, {'from': '2024-01-03T19:59Z', 'to': '2024-01-03T23:59Z', 'intensity': {'max': 162, 'average': 135, 'min': 117, 'index': 'moderate'}}, {'from': '2024-01-03T23:59Z', 'to': '2024-01-04T03:59Z', 'intensity': {'max': 114, 'average': 99, 'min': 88, 'index': 'low'}}, {'from': '2024-01-04T03:59Z', 'to': '2024-01-04T07:59Z', 'intensity': {'max': 205, 'average': 130, 'min': 95, 'index': 'moderate'}}, {'from': '2024-01-04T07:59Z', 'to': '2024-01-04T11:59Z', 'intensity': {'max': 207, 'average': 204, 'min': 199, 'index': 'high'}}, {'from': '2024-01-04T11:59Z', 'to': '2024-01-04T15:59Z', 'intensity': {'max': 237, 'average': 227, 'min': 211, 'index': 'high'}}, {'from': '2024-01-04T15:59Z', 'to': '2024-01-04T19:59Z', 'intensity': {'max': 240, 'average': 236, 'min': 226, 'index': 'high'}}, {'from': '2024-01-04T19:59Z', 'to': '2024-01-04T23:59Z', 'intensity': {'max': 220, 'average': 183, 'min': 146, 'index': 'moderate'}}, {'from': '2024-01-04T23:59Z', 'to': '2024-01-05T03:59Z', 'intensity': {'max': 147, 'average': 140, 'min': 131, 'index': 'moderate'}}, {'from': '2024-01-05T03:59Z', 'to': '2024-01-05T07:59Z', 'intensity': {'max': 201, 'average': 153, 'min': 124, 'index': 'moderate'}}, {'from': '2024-01-05T07:59Z', 'to': '2024-01-05T11:59Z', 'intensity': {'max': 197, 'average': 193, 'min': 184, 'index': 'high'}}, {'from': '2024-01-05T11:59Z', 'to': '2024-01-05T15:59Z', 'intensity': {'max': 191, 'average': 185, 'min': 179, 'index': 'moderate'}}, {'from': '2024-01-05T15:59Z', 'to': '2024-01-05T19:59Z', 'intensity': {'max': 192, 'average': 189, 'min': 188, 'index': 'moderate'}}, {'from': '2024-01-05T19:59Z', 'to': '2024-01-05T23:59Z', 'intensity': {'max': 185, 'average': 163, 'min': 129, 'index': 'moderate'}}, {'from': '2024-01-05T23:59Z', 'to': '2024-01-06T03:59Z', 'intensity': {'max': 124, 'average': 118, 'min': 114, 'index': 'moderate'}}, {'from': '2024-01-06T03:59Z', 'to': '2024-01-06T07:59Z', 'intensity': {'max': 177, 'average': 140, 'min': 117, 'index': 'moderate'}}, {'from': '2024-01-06T07:59Z', 'to': '2024-01-06T11:59Z', 'intensity': {'max': 199, 'average': 194, 'min': 186, 'index': 'high'}}, {'from': '2024-01-06T11:59Z', 'to': '2024-01-06T15:59Z', 'intensity': {'max': 210, 'average': 198, 'min': 188, 'index': 'high'}}, {'from': '2024-01-06T15:59Z', 'to': '2024-01-06T19:59Z', 'intensity': {'max': 213, 'average': 211, 'min': 208, 'index': 'high'}}, {'from': '2024-01-06T19:59Z', 'to': '2024-01-06T23:59Z', 'intensity': {'max': 212, 'average': 193, 'min': 161, 'index': 'high'}}, {'from': '2024-01-06T23:59Z', 'to': '2024-01-07T03:59Z', 'intensity': {'max': 162, 'average': 152, 'min': 144, 'index': 'moderate'}}, {'from': '2024-01-07T03:59Z', 'to': '2024-01-07T07:59Z', 'intensity': {'max': 172, 'average': 153, 'min': 142, 'index': 'moderate'}}, {'from': '2024-01-07T07:59Z', 'to': '2024-01-07T11:59Z', 'intensity': {'max': 206, 'average': 199, 'min': 181, 'index': 'high'}}, {'from': '2024-01-07T11:59Z', 'to': '2024-01-07T15:59Z', 'intensity': {'max': 232, 'average': 217, 'min': 204, 'index': 'high'}}, {'from': '2024-01-07T15:59Z', 'to': '2024-01-07T19:59Z', 'intensity': {'max': 239, 'average': 235, 'min': 231, 'index': 'high'}}, {'from': '2024-01-07T19:59Z', 'to': '2024-01-07T23:59Z', 'intensity': {'max': 233, 'average': 215, 'min': 188, 'index': 'high'}}, {'from': '2024-01-07T23:59Z', 'to': '2024-01-08T03:59Z', 'intensity': {'max': 187, 'average': 173, 'min': 162, 'index': 'moderate'}}, {'from': '2024-01-08T03:59Z', 'to': '2024-01-08T07:59Z', 'intensity': {'max': 258, 'average': 218, 'min': 168, 'index': 'high'}}, {'from': '2024-01-08T07:59Z', 'to': '2024-01-08T11:59Z', 'intensity': {'max': 255, 'average': 246, 'min': 241, 'index': 'high'}}, {'from': '2024-01-08T11:59Z', 'to': '2024-01-08T15:59Z', 'intensity': {'max': 244, 'average': 241, 'min': 238, 'index': 'high'}}, {'from': '2024-01-08T15:59Z', 'to': '2024-01-08T19:59Z', 'intensity': {'max': 238, 'average': 229, 'min': 223, 'index': 'high'}}, {'from': '2024-01-08T19:59Z', 'to': '2024-01-08T23:59Z', 'intensity': {'max': 222, 'average': 189, 'min': 167, 'index': 'moderate'}}, {'from': '2024-01-08T23:59Z', 'to': '2024-01-09T03:59Z', 'intensity': {'max': 174, 'average': 169, 'min': 164, 'index': 'moderate'}}, {'from': '2024-01-09T03:59Z', 'to': '2024-01-09T07:59Z', 'intensity': {'max': 220, 'average': 196, 'min': 172, 'index': 'high'}}, {'from': '2024-01-09T07:59Z', 'to': '2024-01-09T11:59Z', 'intensity': {'max': 222, 'average': 214, 'min': 202, 'index': 'high'}}, {'from': '2024-01-09T11:59Z', 'to': '2024-01-09T15:59Z', 'intensity': {'max': 231, 'average': 212, 'min': 199, 'index': 'high'}}, {'from': '2024-01-09T15:59Z', 'to': '2024-01-09T19:59Z', 'intensity': {'max': 241, 'average': 237, 'min': 232, 'index': 'high'}}, {'from': '2024-01-09T19:59Z', 'to': '2024-01-09T23:59Z', 'intensity': {'max': 243, 'average': 222, 'min': 201, 'index': 'high'}}, {'from': '2024-01-09T23:59Z', 'to': '2024-01-10T03:59Z', 'intensity': {'max': 229, 'average': 221, 'min': 211, 'index': 'high'}}, {'from': '2024-01-10T03:59Z', 'to': '2024-01-10T07:59Z', 'intensity': {'max': 268, 'average': 249, 'min': 233, 'index': 'high'}}, {'from': '2024-01-10T07:59Z', 'to': '2024-01-10T11:59Z', 'intensity': {'max': 270, 'average': 264, 'min': 252, 'index': 'high'}}, {'from': '2024-01-10T11:59Z', 'to': '2024-01-10T15:59Z', 'intensity': {'max': 255, 'average': 250, 'min': 248, 'index': 'high'}}, {'from': '2024-01-10T15:59Z', 'to': '2024-01-10T19:59Z', 'intensity': {'max': 257, 'average': 249, 'min': 242, 'index': 'high'}}, {'from': '2024-01-10T19:59Z', 'to': '2024-01-10T23:59Z', 'intensity': {'max': 252, 'average': 247, 'min': 241, 'index': 'high'}}, {'from': '2024-01-10T23:59Z', 'to': '2024-01-11T03:59Z', 'intensity': {'max': 256, 'average': 251, 'min': 242, 'index': 'high'}}, {'from': '2024-01-11T03:59Z', 'to': '2024-01-11T07:59Z', 'intensity': {'max': 283, 'average': 262, 'min': 248, 'index': 'high'}}, {'from': '2024-01-11T07:59Z', 'to': '2024-01-11T11:59Z', 'intensity': {'max': 283, 'average': 276, 'min': 270, 'index': 'very high'}}, {'from': '2024-01-11T11:59Z', 'to': '2024-01-11T15:59Z', 'intensity': {'max': 270, 'average': 256, 'min': 243, 'index': 'high'}}, {'from': '2024-01-11T15:59Z', 'to': '2024-01-11T19:59Z', 'intensity': {'max': 274, 'average': 260, 'min': 253, 'index': 'high'}}, {'from': '2024-01-11T19:59Z', 'to': '2024-01-11T23:59Z', 'intensity': {'max': 284, 'average': 276, 'min': 267, 'index': 'very high'}}, {'from': '2024-01-11T23:59Z', 'to': '2024-01-12T03:59Z', 'intensity': {'max': 275, 'average': 268, 'min': 260, 'index': 'high'}}, {'from': '2024-01-12T03:59Z', 'to': '2024-01-12T07:59Z', 'intensity': {'max': 294, 'average': 287, 'min': 278, 'index': 'very high'}}, {'from': '2024-01-12T07:59Z', 'to': '2024-01-12T11:59Z', 'intensity': {'max': 295, 'average': 289, 'min': 283, 'index': 'very high'}}, {'from': '2024-01-12T11:59Z', 'to': '2024-01-12T15:59Z', 'intensity': {'max': 284, 'average': 279, 'min': 272, 'index': 'very high'}}, {'from': '2024-01-12T15:59Z', 'to': '2024-01-12T19:59Z', 'intensity': {'max': 277, 'average': 274, 'min': 270, 'index': 'very high'}}, {'from': '2024-01-12T19:59Z', 'to': '2024-01-12T23:59Z', 'intensity': {'max': 291, 'average': 268, 'min': 231, 'index': 'high'}}, {'from': '2024-01-12T23:59Z', 'to': '2024-01-13T03:59Z', 'intensity': {'max': 223, 'average': 207, 'min': 193, 'index': 'high'}}, {'from': '2024-01-13T03:59Z', 'to': '2024-01-13T07:59Z', 'intensity': {'max': 223, 'average': 203, 'min': 187, 'index': 'high'}}, {'from': '2024-01-13T07:59Z', 'to': '2024-01-13T11:59Z', 'intensity': {'max': 235, 'average': 224, 'min': 218, 'index': 'high'}}, {'from': '2024-01-13T11:59Z', 'to': '2024-01-13T15:59Z', 'intensity': {'max': 238, 'average': 226, 'min': 219, 'index': 'high'}}, {'from': '2024-01-13T15:59Z', 'to': '2024-01-13T19:59Z', 'intensity': {'max': 255, 'average': 247, 'min': 237, 'index': 'high'}}, {'from': '2024-01-13T19:59Z', 'to': '2024-01-13T23:59Z', 'intensity': {'max': 255, 'average': 232, 'min': 194, 'index': 'high'}}, {'from': '2024-01-13T23:59Z', 'to': '2024-01-14T03:59Z', 'intensity': {'max': 192, 'average': 188, 'min': 185, 'index': 'moderate'}}, {'from': '2024-01-14T03:59Z', 'to': '2024-01-14T07:59Z', 'intensity': {'max': 200, 'average': 197, 'min': 191, 'index': 'high'}}, {'from': '2024-01-14T07:59Z', 'to': '2024-01-14T11:59Z', 'intensity': {'max': 200, 'average': 188, 'min': 171, 'index': 'moderate'}}, {'from': '2024-01-14T11:59Z', 'to': '2024-01-14T15:59Z', 'intensity': {'max': 186, 'average': 174, 'min': 167, 'index': 'moderate'}}, {'from': '2024-01-14T15:59Z', 'to': '2024-01-14T19:59Z', 'intensity': {'max': 199, 'average': 193, 'min': 188, 'index': 'high'}}, {'from': '2024-01-14T19:59Z', 'to': '2024-01-14T23:59Z', 'intensity': {'max': 177, 'average': 135, 'min': 99, 'index': 'moderate'}}, {'from': '2024-01-14T23:59Z', 'to': '2024-01-15T03:59Z', 'intensity': {'max': 99, 'average': 86, 'min': 76, 'index': 'low'}}, {'from': '2024-01-15T03:59Z', 'to': '2024-01-15T07:59Z', 'intensity': {'max': 214, 'average': 154, 'min': 89, 'index': 'moderate'}}, {'from': '2024-01-15T07:59Z', 'to': '2024-01-15T11:59Z', 'intensity': {'max': 222, 'average': 210, 'min': 197, 'index': 'high'}}, {'from': '2024-01-15T11:59Z', 'to': '2024-01-15T15:59Z', 'intensity': {'max': 224, 'average': 204, 'min': 194, 'index': 'high'}}, {'from': '2024-01-15T15:59Z', 'to': '2024-01-15T19:59Z', 'intensity': {'max': 250, 'average': 242, 'min': 232, 'index': 'high'}}, {'from': '2024-01-15T19:59Z', 'to': '2024-01-15T23:59Z', 'intensity': {'max': 265, 'average': 259, 'min': 252, 'index': 'high'}}, {'from': '2024-01-15T23:59Z', 'to': '2024-01-16T03:59Z', 'intensity': {'max': 278, 'average': 268, 'min': 256, 'index': 'high'}}, {'from': '2024-01-16T03:59Z', 'to': '2024-01-16T07:59Z', 'intensity': {'max': 285, 'average': 277, 'min': 269, 'index': 'very high'}}, {'from': '2024-01-16T07:59Z', 'to': '2024-01-16T11:59Z', 'intensity': {'max': 281, 'average': 273, 'min': 263, 'index': 'very high'}}, {'from': '2024-01-16T11:59Z', 'to': '2024-01-16T15:59Z', 'intensity': {'max': 259, 'average': 252, 'min': 240, 'index': 'high'}}, {'from': '2024-01-16T15:59Z', 'to': '2024-01-16T19:59Z', 'intensity': {'max': 237, 'average': 232, 'min': 227, 'index': 'high'}}, {'from': '2024-01-16T19:59Z', 'to': '2024-01-16T23:59Z', 'intensity': {'max': 235, 'average': 221, 'min': 200, 'index': 'high'}}, {'from': '2024-01-16T23:59Z', 'to': '2024-01-17T03:59Z', 'intensity': {'max': 239, 'average': 223, 'min': 211, 'index': 'high'}}, {'from': '2024-01-17T03:59Z', 'to': '2024-01-17T07:59Z', 'intensity': {'max': 288, 'average': 274, 'min': 247, 'index': 'very high'}}, {'from': '2024-01-17T07:59Z', 'to': '2024-01-17T11:59Z', 'intensity': {'max': 286, 'average': 276, 'min': 265, 'index': 'very high'}}, {'from': '2024-01-17T11:59Z', 'to': '2024-01-17T15:59Z', 'intensity': {'max': 272, 'average': 263, 'min': 254, 'index': 'high'}}, {'from': '2024-01-17T15:59Z', 'to': '2024-01-17T19:59Z', 'intensity': {'max': 260, 'average': 257, 'min': 255, 'index': 'high'}}, {'from': '2024-01-17T19:59Z', 'to': '2024-01-17T23:59Z', 'intensity': {'max': 259, 'average': 253, 'min': 242, 'index': 'high'}}, {'from': '2024-01-17T23:59Z', 'to': '2024-01-18T03:59Z', 'intensity': {'max': 239, 'average': 220, 'min': 209, 'index': 'high'}}, {'from': '2024-01-18T03:59Z', 'to': '2024-01-18T07:59Z', 'intensity': {'max': 263, 'average': 247, 'min': 223, 'index': 'high'}}, {'from': '2024-01-18T07:59Z', 'to': '2024-01-18T11:59Z', 'intensity': {'max': 268, 'average': 254, 'min': 230, 'index': 'high'}}, {'from': '2024-01-18T11:59Z', 'to': '2024-01-18T15:59Z', 'intensity': {'max': 234, 'average': 230, 'min': 224, 'index': 'high'}}, {'from': '2024-01-18T15:59Z', 'to': '2024-01-18T19:59Z', 'intensity': {'max': 246, 'average': 240, 'min': 234, 'index': 'high'}}, {'from': '2024-01-18T19:59Z', 'to': '2024-01-18T23:59Z', 'intensity': {'max': 234, 'average': 206, 'min': 181, 'index': 'high'}}, {'from': '2024-01-18T23:59Z', 'to': '2024-01-19T03:59Z', 'intensity': {'max': 184, 'average': 177, 'min': 174, 'index': 'moderate'}}, {'from': '2024-01-19T03:59Z', 'to': '2024-01-19T07:59Z', 'intensity': {'max': 242, 'average': 216, 'min': 185, 'index': 'high'}}, {'from': '2024-01-19T07:59Z', 'to': '2024-01-19T11:59Z', 'intensity': {'max': 237, 'average': 223, 'min': 200, 'index': 'high'}}, {'from': '2024-01-19T11:59Z', 'to': '2024-01-19T15:59Z', 'intensity': {'max': 211, 'average': 192, 'min': 175, 'index': 'high'}}, {'from': '2024-01-19T15:59Z', 'to': '2024-01-19T19:59Z', 'intensity': {'max': 220, 'average': 211, 'min': 202, 'index': 'high'}}, {'from': '2024-01-19T19:59Z', 'to': '2024-01-19T23:59Z', 'intensity': {'max': 191, 'average': 154, 'min': 109, 'index': 'moderate'}}, {'from': '2024-01-19T23:59Z', 'to': '2024-01-20T03:59Z', 'intensity': {'max': 111, 'average': 104, 'min': 95, 'index': 'low'}}, {'from': '2024-01-20T03:59Z', 'to': '2024-01-20T07:59Z', 'intensity': {'max': 132, 'average': 107, 'min': 95, 'index': 'low'}}, {'from': '2024-01-20T07:59Z', 'to': '2024-01-20T11:59Z', 'intensity': {'max': 143, 'average': 134, 'min': 119, 'index': 'moderate'}}, {'from': '2024-01-20T11:59Z', 'to': '2024-01-20T15:59Z', 'intensity': {'max': 142, 'average': 123, 'min': 109, 'index': 'moderate'}}, {'from': '2024-01-20T15:59Z', 'to': '2024-01-20T19:59Z', 'intensity': {'max': 150, 'average': 146, 'min': 139, 'index': 'moderate'}}, {'from': '2024-01-20T19:59Z', 'to': '2024-01-20T23:59Z', 'intensity': {'max': 132, 'average': 95, 'min': 60, 'index': 'low'}}, {'from': '2024-01-20T23:59Z', 'to': '2024-01-21T03:59Z', 'intensity': {'max': 74, 'average': 66, 'min': 60, 'index': 'low'}}, {'from': '2024-01-21T03:59Z', 'to': '2024-01-21T07:59Z', 'intensity': {'max': 75, 'average': 69, 'min': 67, 'index': 'low'}}, {'from': '2024-01-21T07:59Z', 'to': '2024-01-21T11:59Z', 'intensity': {'max': 62, 'average': 59, 'min': 56, 'index': 'low'}}, {'from': '2024-01-21T11:59Z', 'to': '2024-01-21T15:59Z', 'intensity': {'max': 90, 'average': 76, 'min': 65, 'index': 'low'}}, {'from': '2024-01-21T15:59Z', 'to': '2024-01-21T19:59Z', 'intensity': {'max': 117, 'average': 109, 'min': 97, 'index': 'low'}}, {'from': '2024-01-21T19:59Z', 'to': '2024-01-21T23:59Z', 'intensity': {'max': 128, 'average': 119, 'min': 107, 'index': 'moderate'}}, {'from': '2024-01-21T23:59Z', 'to': '2024-01-22T03:59Z', 'intensity': {'max': 132, 'average': 115, 'min': 87, 'index': 'moderate'}}, {'from': '2024-01-22T03:59Z', 'to': '2024-01-22T07:59Z', 'intensity': {'max': 109, 'average': 93, 'min': 84, 'index': 'low'}}, {'from': '2024-01-22T07:59Z', 'to': '2024-01-22T11:59Z', 'intensity': {'max': 108, 'average': 96, 'min': 82, 'index': 'low'}}, {'from': '2024-01-22T11:59Z', 'to': '2024-01-22T15:59Z', 'intensity': {'max': 92, 'average': 78, 'min': 69, 'index': 'low'}}, {'from': '2024-01-22T15:59Z', 'to': '2024-01-22T19:59Z', 'intensity': {'max': 111, 'average': 104, 'min': 98, 'index': 'low'}}, {'from': '2024-01-22T19:59Z', 'to': '2024-01-22T23:59Z', 'intensity': {'max': 92, 'average': 69, 'min': 58, 'index': 'low'}}, {'from': '2024-01-22T23:59Z', 'to': '2024-01-23T03:59Z', 'intensity': {'max': 69, 'average': 63, 'min': 58, 'index': 'low'}}, {'from': '2024-01-23T03:59Z', 'to': '2024-01-23T07:59Z', 'intensity': {'max': 138, 'average': 99, 'min': 66, 'index': 'low'}}, {'from': '2024-01-23T07:59Z', 'to': '2024-01-23T11:59Z', 'intensity': {'max': 140, 'average': 135, 'min': 127, 'index': 'moderate'}}, {'from': '2024-01-23T11:59Z', 'to': '2024-01-23T15:59Z', 'intensity': {'max': 121, 'average': 112, 'min': 99, 'index': 'moderate'}}, {'from': '2024-01-23T15:59Z', 'to': '2024-01-23T19:59Z', 'intensity': {'max': 122, 'average': 112, 'min': 95, 'index': 'moderate'}}, {'from': '2024-01-23T19:59Z', 'to': '2024-01-23T23:59Z', 'intensity': {'max': 87, 'average': 73, 'min': 64, 'index': 'low'}}, {'from': '2024-01-23T23:59Z', 'to': '2024-01-24T03:59Z', 'intensity': {'max': 70, 'average': 69, 'min': 66, 'index': 'low'}}, {'from': '2024-01-24T03:59Z', 'to': '2024-01-24T07:59Z', 'intensity': {'max': 97, 'average': 76, 'min': 63, 'index': 'low'}}, {'from': '2024-01-24T07:59Z', 'to': '2024-01-24T11:59Z', 'intensity': {'max': 105, 'average': 97, 'min': 86, 'index': 'low'}}, {'from': '2024-01-24T11:59Z', 'to': '2024-01-24T15:59Z', 'intensity': {'max': 120, 'average': 98, 'min': 85, 'index': 'low'}}, {'from': '2024-01-24T15:59Z', 'to': '2024-01-24T19:59Z', 'intensity': {'max': 163, 'average': 151, 'min': 133, 'index': 'moderate'}}, {'from': '2024-01-24T19:59Z', 'to': '2024-01-24T23:59Z', 'intensity': {'max': 157, 'average': 140, 'min': 120, 'index': 'moderate'}}, {'from': '2024-01-24T23:59Z', 'to': '2024-01-25T03:59Z', 'intensity': {'max': 135, 'average': 132, 'min': 124, 'index': 'moderate'}}, {'from': '2024-01-25T03:59Z', 'to': '2024-01-25T07:59Z', 'intensity': {'max': 181, 'average': 153, 'min': 120, 'index': 'moderate'}}, {'from': '2024-01-25T07:59Z', 'to': '2024-01-25T11:59Z', 'intensity': {'max': 179, 'average': 161, 'min': 146, 'index': 'moderate'}}, {'from': '2024-01-25T11:59Z', 'to': '2024-01-25T15:59Z', 'intensity': {'max': 153, 'average': 151, 'min': 148, 'index': 'moderate'}}, {'from': '2024-01-25T15:59Z', 'to': '2024-01-25T19:59Z', 'intensity': {'max': 162, 'average': 157, 'min': 152, 'index': 'moderate'}}, {'from': '2024-01-25T19:59Z', 'to': '2024-01-25T23:59Z', 'intensity': {'max': 148, 'average': 98, 'min': 62, 'index': 'low'}}, {'from': '2024-01-25T23:59Z', 'to': '2024-01-26T03:59Z', 'intensity': {'max': 74, 'average': 61, 'min': 51, 'index': 'low'}}, {'from': '2024-01-26T03:59Z', 'to': '2024-01-26T07:59Z', 'intensity': {'max': 84, 'average': 66, 'min': 53, 'index': 'low'}}, {'from': '2024-01-26T07:59Z', 'to': '2024-01-26T11:59Z', 'intensity': {'max': 82, 'average': 64, 'min': 44, 'index': 'low'}}, {'from': '2024-01-26T11:59Z', 'to': '2024-01-26T15:59Z', 'intensity': {'max': 86, 'average': 57, 'min': 44, 'index': 'low'}}, {'from': '2024-01-26T15:59Z', 'to': '2024-01-26T19:59Z', 'intensity': {'max': 135, 'average': 127, 'min': 110, 'index': 'moderate'}}, {'from': '2024-01-26T19:59Z', 'to': '2024-01-26T23:59Z', 'intensity': {'max': 128, 'average': 108, 'min': 84, 'index': 'low'}}, {'from': '2024-01-26T23:59Z', 'to': '2024-01-27T03:59Z', 'intensity': {'max': 95, 'average': 90, 'min': 85, 'index': 'low'}}, {'from': '2024-01-27T03:59Z', 'to': '2024-01-27T07:59Z', 'intensity': {'max': 119, 'average': 104, 'min': 91, 'index': 'low'}}, {'from': '2024-01-27T07:59Z', 'to': '2024-01-27T11:59Z', 'intensity': {'max': 108, 'average': 93, 'min': 74, 'index': 'low'}}, {'from': '2024-01-27T11:59Z', 'to': '2024-01-27T15:59Z', 'intensity': {'max': 113, 'average': 79, 'min': 66, 'index': 'low'}}, {'from': '2024-01-27T15:59Z', 'to': '2024-01-27T19:59Z', 'intensity': {'max': 130, 'average': 128, 'min': 121, 'index': 'moderate'}}, {'from': '2024-01-27T19:59Z', 'to': '2024-01-27T23:59Z', 'intensity': {'max': 130, 'average': 104, 'min': 83, 'index': 'low'}}, {'from': '2024-01-27T23:59Z', 'to': '2024-01-28T03:59Z', 'intensity': {'max': 89, 'average': 83, 'min': 78, 'index': 'low'}}, {'from': '2024-01-28T03:59Z', 'to': '2024-01-28T07:59Z', 'intensity': {'max': 87, 'average': 80, 'min': 76, 'index': 'low'}}, {'from': '2024-01-28T07:59Z', 'to': '2024-01-28T11:59Z', 'intensity': {'max': 88, 'average': 69, 'min': 58, 'index': 'low'}}, {'from': '2024-01-28T11:59Z', 'to': '2024-01-28T15:59Z', 'intensity': {'max': 73, 'average': 61, 'min': 50, 'index': 'low'}}, {'from': '2024-01-28T15:59Z', 'to': '2024-01-28T19:59Z', 'intensity': {'max': 94, 'average': 88, 'min': 72, 'index': 'low'}}, {'from': '2024-01-28T19:59Z', 'to': '2024-01-28T23:59Z', 'intensity': {'max': 82, 'average': 72, 'min': 66, 'index': 'low'}}, {'from': '2024-01-28T23:59Z', 'to': '2024-01-29T03:59Z', 'intensity': {'max': 121, 'average': 102, 'min': 75, 'index': 'low'}}, {'from': '2024-01-29T03:59Z', 'to': '2024-01-29T07:59Z', 'intensity': {'max': 253, 'average': 200, 'min': 123, 'index': 'high'}}, {'from': '2024-01-29T07:59Z', 'to': '2024-01-29T11:59Z', 'intensity': {'max': 242, 'average': 239, 'min': 235, 'index': 'high'}}, {'from': '2024-01-29T11:59Z', 'to': '2024-01-29T15:59Z', 'intensity': {'max': 240, 'average': 231, 'min': 221, 'index': 'high'}}, {'from': '2024-01-29T15:59Z', 'to': '2024-01-29T19:59Z', 'intensity': {'max': 223, 'average': 211, 'min': 198, 'index': 'high'}}, {'from': '2024-01-29T19:59Z', 'to': '2024-01-29T23:59Z', 'intensity': {'max': 181, 'average': 145, 'min': 100, 'index': 'moderate'}}]\n"
     ]
    }
   ],
   "source": [
    "print(json_data)"
   ]
  },
  {
   "cell_type": "code",
   "execution_count": 6,
   "metadata": {},
   "outputs": [
    {
     "name": "stdout",
     "output_type": "stream",
     "text": [
      "Success for 2023-08-07T16:37Z to 2023-09-06T16:37Z\n",
      "Success for 2023-09-07T16:37Z to 2023-10-07T16:37Z\n",
      "Success for 2023-10-08T16:37Z to 2023-11-07T16:37Z\n",
      "Success for 2023-11-08T16:37Z to 2023-12-08T16:37Z\n",
      "Success for 2023-12-09T16:37Z to 2024-01-08T16:37Z\n",
      "Success for 2024-01-09T16:37Z to 2024-02-08T16:37Z\n"
     ]
    }
   ],
   "source": [
    "#--------------------------------------------------------------------------\n",
    "#Create table from last 6 months\n",
    "#--------------------------------------------------------------------------\n",
    "#Get current date\n",
    "current_date = datetime.utcnow()\n",
    "\n",
    "#Calculate dates\n",
    "from_date = current_date - timedelta(days=180)\n",
    "from_date_str = from_date.strftime('%Y-%m-%dT%H:%MZ')\n",
    "to_date_str = current_date.strftime('%Y-%m-%dT%H:%MZ')\n",
    "\n",
    "block_date = 4\n",
    "\n",
    "#Empty df to save each iteration data\n",
    "dfs = []\n",
    "\n",
    "#Loop to get data in 30 days intervals (API limit)\n",
    "while from_date < current_date:\n",
    "    to_date = from_date + timedelta(days=30)\n",
    "    to_date_str = to_date.strftime('%Y-%m-%dT%H:%MZ')\n",
    "    \n",
    "    full_url = f\"{base_url}/{endpoint}/{from_date_str}/{to_date_str}/{block_date}\"\n",
    "    \n",
    "    r = requests.get(full_url,\n",
    "                     params={},\n",
    "                     headers=headers)\n",
    "    \n",
    "    if r.status_code == 200:\n",
    "        print(f\"Success for {from_date_str} to {to_date_str}\")\n",
    "        json_data = r.json()['data']\n",
    "        df_carbon_intensity = pd.json_normalize(json_data)\n",
    "        dfs.append(df_carbon_intensity)\n",
    "    else:\n",
    "        print(r.status_code)\n",
    "        print(r.text)\n",
    "\n",
    "    #Next interval\n",
    "    from_date = to_date + timedelta(days=1)\n",
    "    from_date_str = from_date.strftime('%Y-%m-%dT%H:%MZ')\n",
    "\n",
    "#Concatenate all df in one\n",
    "df_carbon_intensity = pd.concat(dfs, ignore_index=True)"
   ]
  },
  {
   "cell_type": "code",
   "execution_count": 8,
   "metadata": {},
   "outputs": [
    {
     "data": {
      "text/html": [
       "<div>\n",
       "<style scoped>\n",
       "    .dataframe tbody tr th:only-of-type {\n",
       "        vertical-align: middle;\n",
       "    }\n",
       "\n",
       "    .dataframe tbody tr th {\n",
       "        vertical-align: top;\n",
       "    }\n",
       "\n",
       "    .dataframe thead th {\n",
       "        text-align: right;\n",
       "    }\n",
       "</style>\n",
       "<table border=\"1\" class=\"dataframe\">\n",
       "  <thead>\n",
       "    <tr style=\"text-align: right;\">\n",
       "      <th></th>\n",
       "      <th>from</th>\n",
       "      <th>to</th>\n",
       "      <th>intensity.max</th>\n",
       "      <th>intensity.average</th>\n",
       "      <th>intensity.min</th>\n",
       "      <th>intensity.index</th>\n",
       "    </tr>\n",
       "  </thead>\n",
       "  <tbody>\n",
       "    <tr>\n",
       "      <th>0</th>\n",
       "      <td>2023-08-07T16:37Z</td>\n",
       "      <td>2023-08-07T20:37Z</td>\n",
       "      <td>178</td>\n",
       "      <td>170</td>\n",
       "      <td>156</td>\n",
       "      <td>moderate</td>\n",
       "    </tr>\n",
       "    <tr>\n",
       "      <th>1</th>\n",
       "      <td>2023-08-07T20:37Z</td>\n",
       "      <td>2023-08-08T00:37Z</td>\n",
       "      <td>177</td>\n",
       "      <td>126</td>\n",
       "      <td>104</td>\n",
       "      <td>moderate</td>\n",
       "    </tr>\n",
       "    <tr>\n",
       "      <th>2</th>\n",
       "      <td>2023-08-08T00:37Z</td>\n",
       "      <td>2023-08-08T04:37Z</td>\n",
       "      <td>127</td>\n",
       "      <td>108</td>\n",
       "      <td>99</td>\n",
       "      <td>low</td>\n",
       "    </tr>\n",
       "    <tr>\n",
       "      <th>3</th>\n",
       "      <td>2023-08-08T04:37Z</td>\n",
       "      <td>2023-08-08T08:37Z</td>\n",
       "      <td>178</td>\n",
       "      <td>166</td>\n",
       "      <td>149</td>\n",
       "      <td>moderate</td>\n",
       "    </tr>\n",
       "    <tr>\n",
       "      <th>4</th>\n",
       "      <td>2023-08-08T08:37Z</td>\n",
       "      <td>2023-08-08T12:37Z</td>\n",
       "      <td>155</td>\n",
       "      <td>141</td>\n",
       "      <td>134</td>\n",
       "      <td>moderate</td>\n",
       "    </tr>\n",
       "  </tbody>\n",
       "</table>\n",
       "</div>"
      ],
      "text/plain": [
       "                from                 to  intensity.max  intensity.average  \\\n",
       "0  2023-08-07T16:37Z  2023-08-07T20:37Z            178                170   \n",
       "1  2023-08-07T20:37Z  2023-08-08T00:37Z            177                126   \n",
       "2  2023-08-08T00:37Z  2023-08-08T04:37Z            127                108   \n",
       "3  2023-08-08T04:37Z  2023-08-08T08:37Z            178                166   \n",
       "4  2023-08-08T08:37Z  2023-08-08T12:37Z            155                141   \n",
       "\n",
       "   intensity.min intensity.index  \n",
       "0            156        moderate  \n",
       "1            104        moderate  \n",
       "2             99             low  \n",
       "3            149        moderate  \n",
       "4            134        moderate  "
      ]
     },
     "execution_count": 8,
     "metadata": {},
     "output_type": "execute_result"
    }
   ],
   "source": [
    "#DataFrame con los datos de carbon intensity de los ultimos 180 días\n",
    "df_carbon_intensity.head()"
   ]
  },
  {
   "cell_type": "code",
   "execution_count": null,
   "metadata": {},
   "outputs": [],
   "source": [
    "#Guardar df a csv file\n",
    "df_carbon_intensity.to_csv('../../data/raw/df_carbon_intensity.csv')"
   ]
  }
 ],
 "metadata": {
  "kernelspec": {
   "display_name": "Python 3",
   "language": "python",
   "name": "python3"
  },
  "language_info": {
   "codemirror_mode": {
    "name": "ipython",
    "version": 3
   },
   "file_extension": ".py",
   "mimetype": "text/x-python",
   "name": "python",
   "nbconvert_exporter": "python",
   "pygments_lexer": "ipython3",
   "version": "3.9.7"
  }
 },
 "nbformat": 4,
 "nbformat_minor": 2
}
