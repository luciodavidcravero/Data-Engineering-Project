{
 "cells": [
  {
   "cell_type": "code",
   "execution_count": 19,
   "metadata": {},
   "outputs": [],
   "source": [
    "import requests\n",
    "import pandas as pd"
   ]
  },
  {
   "cell_type": "code",
   "execution_count": 4,
   "metadata": {},
   "outputs": [
    {
     "name": "stdout",
     "output_type": "stream",
     "text": [
      "\u001b[1;31mSignature:\u001b[0m \u001b[0mrequests\u001b[0m\u001b[1;33m.\u001b[0m\u001b[0mget\u001b[0m\u001b[1;33m(\u001b[0m\u001b[0murl\u001b[0m\u001b[1;33m,\u001b[0m \u001b[0mparams\u001b[0m\u001b[1;33m=\u001b[0m\u001b[1;32mNone\u001b[0m\u001b[1;33m,\u001b[0m \u001b[1;33m**\u001b[0m\u001b[0mkwargs\u001b[0m\u001b[1;33m)\u001b[0m\u001b[1;33m\u001b[0m\u001b[1;33m\u001b[0m\u001b[0m\n",
      "\u001b[1;31mDocstring:\u001b[0m\n",
      "Sends a GET request.\n",
      "\n",
      ":param url: URL for the new :class:`Request` object.\n",
      ":param params: (optional) Dictionary, list of tuples or bytes to send\n",
      "    in the query string for the :class:`Request`.\n",
      ":param \\*\\*kwargs: Optional arguments that ``request`` takes.\n",
      ":return: :class:`Response <Response>` object\n",
      ":rtype: requests.Response\n",
      "\u001b[1;31mFile:\u001b[0m      c:\\users\\guido\\miniconda3\\envs\\dataenv\\lib\\site-packages\\requests\\api.py\n",
      "\u001b[1;31mType:\u001b[0m      function\n"
     ]
    }
   ],
   "source": [
    "requests.get?"
   ]
  },
  {
   "cell_type": "code",
   "execution_count": 8,
   "metadata": {},
   "outputs": [],
   "source": [
    "base_url = \"https://api.luchtmeetnet.nl/open_api\"\n",
    "endpoint = \"components\"\n",
    "full_url = f\"{base_url}/{endpoint}\"\n",
    "\n",
    "r = requests.get(full_url)"
   ]
  },
  {
   "cell_type": "code",
   "execution_count": 17,
   "metadata": {},
   "outputs": [
    {
     "data": {
      "text/plain": [
       "dict_keys(['pagination', 'data'])"
      ]
     },
     "execution_count": 17,
     "metadata": {},
     "output_type": "execute_result"
    }
   ],
   "source": [
    "json_response = r.json()\n",
    "json_response.keys()"
   ]
  },
  {
   "cell_type": "code",
   "execution_count": 18,
   "metadata": {},
   "outputs": [],
   "source": [
    "json_data = json_response[\"data\"]"
   ]
  },
  {
   "cell_type": "code",
   "execution_count": 23,
   "metadata": {},
   "outputs": [
    {
     "data": {
      "text/html": [
       "<div>\n",
       "<style scoped>\n",
       "    .dataframe tbody tr th:only-of-type {\n",
       "        vertical-align: middle;\n",
       "    }\n",
       "\n",
       "    .dataframe tbody tr th {\n",
       "        vertical-align: top;\n",
       "    }\n",
       "\n",
       "    .dataframe thead th {\n",
       "        text-align: right;\n",
       "    }\n",
       "</style>\n",
       "<table border=\"1\" class=\"dataframe\">\n",
       "  <thead>\n",
       "    <tr style=\"text-align: right;\">\n",
       "      <th></th>\n",
       "      <th>formula</th>\n",
       "      <th>name.NL</th>\n",
       "      <th>name.EN</th>\n",
       "    </tr>\n",
       "  </thead>\n",
       "  <tbody>\n",
       "    <tr>\n",
       "      <th>0</th>\n",
       "      <td>C10H8</td>\n",
       "      <td>Naftaleen</td>\n",
       "      <td>Naphthalene</td>\n",
       "    </tr>\n",
       "    <tr>\n",
       "      <th>1</th>\n",
       "      <td>C6H6</td>\n",
       "      <td>Benzeen</td>\n",
       "      <td>Benzene</td>\n",
       "    </tr>\n",
       "    <tr>\n",
       "      <th>2</th>\n",
       "      <td>C7H8</td>\n",
       "      <td>Tolueen</td>\n",
       "      <td>Toluene</td>\n",
       "    </tr>\n",
       "    <tr>\n",
       "      <th>3</th>\n",
       "      <td>C8H10</td>\n",
       "      <td>Xyleen</td>\n",
       "      <td>Xylene</td>\n",
       "    </tr>\n",
       "    <tr>\n",
       "      <th>4</th>\n",
       "      <td>CO</td>\n",
       "      <td>Koolmonoxide (CO)</td>\n",
       "      <td>Carbon monoxide (CO)</td>\n",
       "    </tr>\n",
       "  </tbody>\n",
       "</table>\n",
       "</div>"
      ],
      "text/plain": [
       "  formula            name.NL               name.EN\n",
       "0   C10H8          Naftaleen           Naphthalene\n",
       "1    C6H6            Benzeen               Benzene\n",
       "2    C7H8            Tolueen               Toluene\n",
       "3   C8H10             Xyleen                Xylene\n",
       "4      CO  Koolmonoxide (CO)  Carbon monoxide (CO)"
      ]
     },
     "execution_count": 23,
     "metadata": {},
     "output_type": "execute_result"
    }
   ],
   "source": [
    "df_components = pd.json_normalize(json_data)\n",
    "df_components.head()"
   ]
  },
  {
   "cell_type": "code",
   "execution_count": 25,
   "metadata": {},
   "outputs": [
    {
     "name": "stdout",
     "output_type": "stream",
     "text": [
      "Success!\n"
     ]
    }
   ],
   "source": [
    "if r.status_code == 200:\n",
    "    print(\"Success!\")\n",
    "    json_data = r.json()[\"data\"]\n",
    "    df_components = pd.json_normalize(json_data)\n",
    "else:\n",
    "    print(\"Failure!\")\n",
    "    print(r.status_code)\n",
    "    print(r.text)"
   ]
  },
  {
   "cell_type": "code",
   "execution_count": 26,
   "metadata": {},
   "outputs": [
    {
     "data": {
      "text/html": [
       "<div>\n",
       "<style scoped>\n",
       "    .dataframe tbody tr th:only-of-type {\n",
       "        vertical-align: middle;\n",
       "    }\n",
       "\n",
       "    .dataframe tbody tr th {\n",
       "        vertical-align: top;\n",
       "    }\n",
       "\n",
       "    .dataframe thead th {\n",
       "        text-align: right;\n",
       "    }\n",
       "</style>\n",
       "<table border=\"1\" class=\"dataframe\">\n",
       "  <thead>\n",
       "    <tr style=\"text-align: right;\">\n",
       "      <th></th>\n",
       "      <th>formula</th>\n",
       "      <th>name.NL</th>\n",
       "      <th>name.EN</th>\n",
       "    </tr>\n",
       "  </thead>\n",
       "  <tbody>\n",
       "    <tr>\n",
       "      <th>0</th>\n",
       "      <td>C10H8</td>\n",
       "      <td>Naftaleen</td>\n",
       "      <td>Naphthalene</td>\n",
       "    </tr>\n",
       "    <tr>\n",
       "      <th>1</th>\n",
       "      <td>C6H6</td>\n",
       "      <td>Benzeen</td>\n",
       "      <td>Benzene</td>\n",
       "    </tr>\n",
       "    <tr>\n",
       "      <th>2</th>\n",
       "      <td>C7H8</td>\n",
       "      <td>Tolueen</td>\n",
       "      <td>Toluene</td>\n",
       "    </tr>\n",
       "    <tr>\n",
       "      <th>3</th>\n",
       "      <td>C8H10</td>\n",
       "      <td>Xyleen</td>\n",
       "      <td>Xylene</td>\n",
       "    </tr>\n",
       "    <tr>\n",
       "      <th>4</th>\n",
       "      <td>CO</td>\n",
       "      <td>Koolmonoxide (CO)</td>\n",
       "      <td>Carbon monoxide (CO)</td>\n",
       "    </tr>\n",
       "  </tbody>\n",
       "</table>\n",
       "</div>"
      ],
      "text/plain": [
       "  formula            name.NL               name.EN\n",
       "0   C10H8          Naftaleen           Naphthalene\n",
       "1    C6H6            Benzeen               Benzene\n",
       "2    C7H8            Tolueen               Toluene\n",
       "3   C8H10             Xyleen                Xylene\n",
       "4      CO  Koolmonoxide (CO)  Carbon monoxide (CO)"
      ]
     },
     "execution_count": 26,
     "metadata": {},
     "output_type": "execute_result"
    }
   ],
   "source": [
    "df_components.head()"
   ]
  }
 ],
 "metadata": {
  "kernelspec": {
   "display_name": "Python 3 (ipykernel)",
   "language": "python",
   "name": "python3"
  },
  "language_info": {
   "codemirror_mode": {
    "name": "ipython",
    "version": 3
   },
   "file_extension": ".py",
   "mimetype": "text/x-python",
   "name": "python",
   "nbconvert_exporter": "python",
   "pygments_lexer": "ipython3",
   "version": "3.9.18"
  }
 },
 "nbformat": 4,
 "nbformat_minor": 2
}
